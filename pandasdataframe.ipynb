{
  "nbformat": 4,
  "nbformat_minor": 0,
  "metadata": {
    "colab": {
      "provenance": [],
      "authorship_tag": "ABX9TyMp0AZqtYC5wCSY5ysW1n8e",
      "include_colab_link": true
    },
    "kernelspec": {
      "name": "python3",
      "display_name": "Python 3"
    },
    "language_info": {
      "name": "python"
    }
  },
  "cells": [
    {
      "cell_type": "markdown",
      "metadata": {
        "id": "view-in-github",
        "colab_type": "text"
      },
      "source": [
        "<a href=\"https://colab.research.google.com/github/mehmet0172/skills-introduction-to-github/blob/main/pandasdataframe.ipynb\" target=\"_parent\"><img src=\"https://colab.research.google.com/assets/colab-badge.svg\" alt=\"Open In Colab\"/></a>"
      ]
    },
    {
      "cell_type": "markdown",
      "source": [
        " #Creating dataframe veri cercevesi olusturma.\n",
        "\n"
      ],
      "metadata": {
        "id": "2nu3K3U2bGgP"
      }
    },
    {
      "cell_type": "markdown",
      "source": [
        "# Create  and populate a 5x2 Numpy array.\n"
      ],
      "metadata": {
        "id": "bBAWQKrDca_C"
      }
    },
    {
      "cell_type": "code",
      "source": [
        "import numpy as np\n",
        "import pandas as pd\n",
        "\n",
        "#Create and populate a 5x2 Numpy array.\n",
        "my_data = np.array([[0, 3], [10, 7], [20, 9], [30, 14], [40, 15]])\n",
        "\n",
        "#Creaate a python list that holds the names of the two columns.\n",
        "my_column_names = ['temperature', 'activity']\n",
        "\n",
        "#Create a DataFrame.\n",
        "my_dataframe = pd.DataFrame(data=my_data, columns=my_column_names)\n",
        "\n",
        "#print the entire dataframe\n",
        "my_dataframe\n",
        "\n"
      ],
      "metadata": {
        "id": "-4ecMQnocukQ"
      },
      "execution_count": null,
      "outputs": []
    },
    {
      "cell_type": "markdown",
      "source": [
        "Adding a new column to a DataFrame\n"
      ],
      "metadata": {
        "id": "d-cIY96MlFWV"
      }
    },
    {
      "cell_type": "code",
      "source": [
        "# Create  a new column named adjusted.\n",
        "my_dataframe['adjusted'] = my_dataframe['activity'] + 2\n",
        "\n",
        "# print the entire DataFrame\n",
        "print(my_dataframe)\n",
        "my_dataframe\n"
      ],
      "metadata": {
        "id": "P1tE4c3UlIR5"
      },
      "execution_count": null,
      "outputs": []
    },
    {
      "cell_type": "markdown",
      "source": [
        "Specifying a subset of a DataFrame\n",
        "\n",
        "Pandas provide multiples ways to isolate specific rows, columns, slices or cells in a DataFrame."
      ],
      "metadata": {
        "id": "bpmOov6JmOHY"
      }
    },
    {
      "cell_type": "code",
      "source": [
        "print(\"Rows #0, #1, and #2:\")\n",
        "print(my_dataframe.head(3), '\\n')\n",
        "\n",
        "print(\"Row #2:\")\n",
        "print(my_dataframe.iloc[[2]], '\\n')\n",
        "\n",
        "print(\"Rows #1, #2, and #3:\")\n",
        "print(my_dataframe[1:4], '\\n')\n",
        "\n",
        "print(\"Column 'temperature':\")\n",
        "print(my_dataframe['temperature'])"
      ],
      "metadata": {
        "colab": {
          "base_uri": "https://localhost:8080/",
          "height": 264
        },
        "id": "SnpNBNV-mRhm",
        "outputId": "d4ce770d-aae3-4eb5-d6b7-c80f196f9bf6"
      },
      "execution_count": 34,
      "outputs": [
        {
          "output_type": "stream",
          "name": "stdout",
          "text": [
            "Rows #0, #1, and #2:\n"
          ]
        },
        {
          "output_type": "error",
          "ename": "NameError",
          "evalue": "ignored",
          "traceback": [
            "\u001b[0;31m---------------------------------------------------------------------------\u001b[0m",
            "\u001b[0;31mNameError\u001b[0m                                 Traceback (most recent call last)",
            "\u001b[0;32m<ipython-input-34-eac8211be062>\u001b[0m in \u001b[0;36m<cell line: 2>\u001b[0;34m()\u001b[0m\n\u001b[1;32m      1\u001b[0m \u001b[0mprint\u001b[0m\u001b[0;34m(\u001b[0m\u001b[0;34m\"Rows #0, #1, and #2:\"\u001b[0m\u001b[0;34m)\u001b[0m\u001b[0;34m\u001b[0m\u001b[0;34m\u001b[0m\u001b[0m\n\u001b[0;32m----> 2\u001b[0;31m \u001b[0mprint\u001b[0m\u001b[0;34m(\u001b[0m\u001b[0mmy_dataframe\u001b[0m\u001b[0;34m.\u001b[0m\u001b[0mhead\u001b[0m\u001b[0;34m(\u001b[0m\u001b[0;36m3\u001b[0m\u001b[0;34m)\u001b[0m\u001b[0;34m,\u001b[0m \u001b[0;34m'\\n'\u001b[0m\u001b[0;34m)\u001b[0m\u001b[0;34m\u001b[0m\u001b[0;34m\u001b[0m\u001b[0m\n\u001b[0m\u001b[1;32m      3\u001b[0m \u001b[0;34m\u001b[0m\u001b[0m\n\u001b[1;32m      4\u001b[0m \u001b[0mprint\u001b[0m\u001b[0;34m(\u001b[0m\u001b[0;34m\"Row #2:\"\u001b[0m\u001b[0;34m)\u001b[0m\u001b[0;34m\u001b[0m\u001b[0;34m\u001b[0m\u001b[0m\n\u001b[1;32m      5\u001b[0m \u001b[0mprint\u001b[0m\u001b[0;34m(\u001b[0m\u001b[0mmy_dataframe\u001b[0m\u001b[0;34m.\u001b[0m\u001b[0miloc\u001b[0m\u001b[0;34m[\u001b[0m\u001b[0;34m[\u001b[0m\u001b[0;36m2\u001b[0m\u001b[0;34m]\u001b[0m\u001b[0;34m]\u001b[0m\u001b[0;34m,\u001b[0m \u001b[0;34m'\\n'\u001b[0m\u001b[0;34m)\u001b[0m\u001b[0;34m\u001b[0m\u001b[0;34m\u001b[0m\u001b[0m\n",
            "\u001b[0;31mNameError\u001b[0m: name 'my_dataframe' is not defined"
          ]
        }
      ]
    },
    {
      "cell_type": "markdown",
      "source": [
        "''' Import NumPy module\n",
        "Populate arrays with specific number\n",
        "(dizileri belirli sayilarla doldurun)\n",
        "Call np.array to create a NumPy array with your own hand-picked values. For example, the following call to np.array creates an 8-element array:\n",
        "'''"
      ],
      "metadata": {
        "id": "GERf5uRQ1aHt"
      }
    },
    {
      "cell_type": "code",
      "source": [
        "import numpy as np\n",
        "import pandas as pd\n",
        "\n",
        "#Create and populate a 5x2 Numpy array.\n",
        "my_data = np.array([[0, 3], [10, 7], [20, 9], [30, 14], [40, 15]])\n",
        "\n",
        "#Creaate a python list that holds the names of the two columns.\n",
        "my_column_names = ['temperature', 'activity']\n",
        "\n",
        "#Create a DataFrame.\n",
        "my_dataframe = pd.DataFrame(data=my_data, columns=my_column_names)\n",
        "\n",
        "#print the entire dataframe\n",
        "my_dataframe\n",
        "\n",
        "# Create  a new column named adjusted.\n",
        "my_dataframe['adjusted'] = my_dataframe['activity'] + 2\n",
        "\n",
        "# print the entire DataFrame\n",
        "print(my_dataframe)\n",
        "my_dataframe\n",
        "\n",
        "print(\"Rows #0, #1, and #2:\")\n",
        "print(my_dataframe.head(3), '\\n')\n",
        "\n",
        "print(\"Row #2:\")\n",
        "print(my_dataframe.iloc[[2]], '\\n')\n",
        "\n",
        "print(\"Rows #1, #2, and #3:\")\n",
        "print(my_dataframe[1:4], '\\n')\n",
        "\n",
        "print(\"Column 'temperature':\")\n",
        "print(my_dataframe['temperature'])\n",
        "\n",
        "one_dimensional_array = np.array([1.2, 2.4, 3.5, 4.7, 6.1, 7.2, 8.3, 9.5])\n",
        "one_dimensional_array\n",
        "\n",
        "# You can also use np.array to create a two-dimensional array. To create a two-dimensional array specify an extra layer of square brackets. For example, the following call creates a 3x2 array:\n",
        "two_dimensional_array = np.array([[6, 5], [11, 7], [4, 8]])\n",
        "two_dimensional_array\n",
        "\n",
        "#To populate an array with all zeroes, call np.zeros.\n",
        "all_zeroes_array = np.zeros(10)\n",
        "all_zeroes_array\n",
        "\n",
        "# To populate an array with all ones, call np.ones.\n",
        "all_ones_array = np.ones(10)\n",
        "all_ones_array\n",
        "\n",
        "# Populate arrays with sequences of numbers\n",
        "#You can populate an array with a sequence (sirali, dizili art arda) of numbers:\n",
        "sequence_of_integer = np.arange(5, 12)\n",
        "sequence_of_integer\n",
        "\n",
        "'''\n",
        "Populate arrays with random numbers\n",
        "NumPy provides various functions to populate arrays with random numbers\n",
        " across certain ranges. For example, np.random.randint generates random\n",
        " integers between a low and high value. The following call populates a 6-element\n",
        "  array with random integers between 50 and 100.\n",
        "belirli araliklarla rastgele(random) sayi uretme\n",
        "'''\n",
        "random_integers_between_50_and_100 = np.random.randint(low=50, high=101, size=6)\n",
        "random_integers_between_50_and_100\n",
        "\n",
        "# To create random floating-point values between 0.0 and 1.0, call np.random.random. For example:\n",
        "# random.random ondalikli noktali sayi uretir.\n",
        "random_floats_between_0_and_1 = np.random.random([6])\n",
        "random_floats_between_0_and_1\n",
        "\n",
        "'''\n",
        "Mathematical Operations on NumPy Operands\n",
        "If you want to add or subtract two arrays, linear algebra requires that the two operands have the same dimensions. Furthermore, if you want to multiply two arrays,\n",
        " linear algebra imposes strict rules on the dimensional compatibility of operands.\n",
        "  Fortunately, NumPy uses a trick called broadcasting to virtually expand the smaller\n",
        "   operand to dimensions compatible for linear algebra. For example, the following operation uses\n",
        "   broadcasting to add 2.0 to the value of every item in the array created in the previous code cell:\n",
        "\n",
        "'''\n",
        "random_floats_between_2_and_3 = random_floats_between_0_and_1 + 2.0\n",
        "random_floats_between_2_and_3\n",
        "\n",
        "#The following operation also relies on broadcasting to multiply each cell in an array by 3:\n",
        "random_integers_between_150_and_300 = random_integers_between_50_and_100*3\n",
        "random_integers_between_150_and_300\n",
        "\n",
        "\n",
        "#TAsk(odev)1:Create a Linear Dataset(Dogrusal veri kumesi olusturma)\n",
        "'''\n",
        "Your goal is to create a simple dataset consisting of a single feature and a label as follows:\n",
        "\n",
        "1.Assign a sequence of integers from 6 to 20 (inclusive) to a NumPy array named feature.\n",
        "2.Assign 15 values to a NumPy array named label such that:\n",
        "'''\n",
        "feature = np.arange(6, 21) # write your code here\n",
        "print(feature)\n",
        "label = (15*feature) + 4  # write your code here\n",
        "print(label)\n",
        "\n",
        "\n",
        "# Task 2; Add Some Noise to the Dataset\n",
        "'''\n",
        "To make your dataset a little more realistic, insert a little random noise into each element of the label array you already created.\n",
        " To be more precise, modify each value assigned to label by adding a different random floating-point value between -2 and +2.\n",
        "\n",
        "Don't rely on broadcasting. Instead, create a noise array having the same dimension as label.\n",
        "'''\n",
        "#noise = (np.random.random([15]*4))-2   # write your code here\n",
        "#print(noise)\n",
        "#label = label + noise # write your code here\n",
        "#print(label)\n",
        "\n",
        "'''\n",
        "Task 1: Create a DataFrame\n",
        "Do the following:\n",
        "\n",
        "Create an 3x4 (3 rows x 4 columns) pandas DataFrame in which\n",
        " the columns are named Eleanor, Chidi, Tahani, and Jason. Populate each of the 12 cells in the DataFrame with a random integer between 0 and 100, inclusive.\n",
        "\n",
        "Output the following:\n",
        "\n",
        "the entire DataFrame\n",
        "the value in the cell of row #1 of the Eleanor column\n",
        "Create a fifth column named Janet, which is populated with the row-by-row sums of Tahani and Jason.\n",
        "\n",
        "To complete this task, it helps to know the NumPy basics covered in the NumPy UltraQuick Tutorial.\n",
        "'''\n",
        "#@title Double-click for a solution to Task 1.\n",
        "\n",
        "# Create a Python list that holds the names of the four columns.\n",
        "my_column_names = ['Eleanor', 'Chidi', 'Tahani', 'Jason']\n",
        "\n",
        "# Create a 3x4 numpy array, each cell populated with a random integer.\n",
        "my_data = np.random.randint(low=0, high=101, size=(3, 4))\n",
        "\n",
        "# Create a DataFrame.\n",
        "df = pd.DataFrame(data=my_data, columns=my_column_names)\n",
        "\n",
        "# Print the entire DataFrame\n",
        "print(df)\n",
        "\n",
        "# Print the value in row #1 of the Eleanor column.\n",
        "print(\"\\nSecond row of the Eleanor column: %d\\n\" % df['Eleanor'][1])\n",
        "\n",
        "# Create a column named Janet whose contents are the sum\n",
        "# of two other columns.\n",
        "df['Janet'] = df['Tahani'] + df['Jason']\n",
        "\n",
        "# Print the enhanced DataFrame\n",
        "print(df)\n",
        "\n",
        "'''\n",
        "Copying a DataFrame (optional)\n",
        "Pandas provides two different ways to duplicate a DataFrame:\n",
        "\n",
        "Referencing. If you assign a DataFrame to a new variable, any change to the DataFrame or to the new variable will be reflected in the other.\n",
        "Copying. If you call the pd.DataFrame.copy method, you create a true independent copy. Changes to the original DataFrame or to the copy will not be reflected in the other.\n",
        "The difference is subtle, but important.\n",
        "'''\n",
        "# Create a reference by assigning my_dataframe to a new variable.\n",
        "print(\"Experiment with a reference:\")\n",
        "reference_to_df = df\n",
        "\n",
        "# Print the starting value of a particular cell.\n",
        "print(\"  Starting value of df: %d\" % df['Jason'][1])\n",
        "print(\"  Starting value of reference_to_df: %d\\n\" % reference_to_df['Jason'][1])\n",
        "\n",
        "# Modify a cell in df.\n",
        "df.at[1, 'Jason'] = df['Jason'][1] + 5\n",
        "print(\"  Updated df: %d\" % df['Jason'][1])\n",
        "print(\"  Updated reference_to_df: %d\\n\\n\" % reference_to_df['Jason'][1])\n",
        "\n",
        "# Create a true copy of my_dataframe\n",
        "print(\"Experiment with a true copy:\")\n",
        "copy_of_my_dataframe = my_dataframe.copy()\n",
        "\n",
        "# Print the starting value of a particular cell.\n",
        "print(\"  Starting value of my_dataframe: %d\" % my_dataframe['activity'][1])\n",
        "print(\"  Starting value of copy_of_my_dataframe: %d\\n\" % copy_of_my_dataframe['activity'][1])\n",
        "\n",
        "# Modify a cell in df.\n",
        "my_dataframe.at[1, 'activity'] = my_dataframe['activity'][1] + 3\n",
        "print(\"  Updated my_dataframe: %d\" % my_dataframe['activity'][1])\n",
        "print(\"  copy_of_my_dataframe does not get updated: %d\" % copy_of_my_dataframe['activity'][1])"
      ],
      "metadata": {
        "id": "sSPIMRgr2Hl5"
      },
      "execution_count": null,
      "outputs": []
    }
  ]
}